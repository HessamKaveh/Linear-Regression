{
  "nbformat": 4,
  "nbformat_minor": 0,
  "metadata": {
    "colab": {
      "provenance": [],
      "collapsed_sections": []
    },
    "kernelspec": {
      "name": "python3",
      "display_name": "Python 3"
    },
    "language_info": {
      "name": "python"
    }
  },
  "cells": [
    {
      "cell_type": "markdown",
      "source": [
        "**Problem Set 1**\n",
        "\n",
        "I am Loading the Diabetes dataset from sklearn and Split it into training (80%) and testing (20%) parts.\n",
        "\n",
        "For the first question I split the data with a different way that, thaught in the class. But for the rest, I used the same technique. "
      ],
      "metadata": {
        "id": "6erRnz-GforX"
      }
    },
    {
      "cell_type": "code",
      "execution_count": 187,
      "metadata": {
        "colab": {
          "base_uri": "https://localhost:8080/",
          "height": 0
        },
        "id": "SHAeCPEQQM3q",
        "outputId": "15e7c9d0-622d-4550-c038-eb5379971afe"
      },
      "outputs": [
        {
          "output_type": "stream",
          "name": "stdout",
          "text": [
            "(354, 10)\n",
            "88\n",
            "(354,)\n",
            "(88,)\n"
          ]
        }
      ],
      "source": [
        "import matplotlib.pyplot as plt\n",
        "import numpy as np\n",
        "from sklearn import datasets, linear_model\n",
        "from sklearn.metrics import mean_squared_error, r2_score\n",
        "import pandas as pd\n",
        "# import seaborn\n",
        "import seaborn as sns\n",
        "%matplotlib inline\n",
        "\n",
        "# Load the diabetes dataset\n",
        "diabetes_X, diabetes_y = datasets.load_diabetes(return_X_y=True)\n",
        "\n",
        "# Split the data into training/testing sets\n",
        "diabetes_X_train = diabetes_X[:int(-.2*diabetes_X.shape[0])]\n",
        "print((diabetes_X_train.shape))\n",
        "diabetes_X_test = diabetes_X[int(-.2*diabetes_X.shape[0]):]\n",
        "print(len(diabetes_X_test))\n",
        "\n",
        "# # Split the targets into training/testing sets\n",
        "diabetes_y_train = diabetes_y[:int(-.2*diabetes_X.shape[0])]\n",
        "diabetes_y_test = diabetes_y[int(-.2*diabetes_X.shape[0]):]\n",
        "print((diabetes_y_train.shape))\n",
        "print((diabetes_y_test.shape))"
      ]
    },
    {
      "cell_type": "markdown",
      "source": [
        "Using DataFrame for the data. And showing the result for example for X_test."
      ],
      "metadata": {
        "id": "mZPvqMLNhYOf"
      }
    },
    {
      "cell_type": "code",
      "source": [
        "diabetes_X_train = pd.DataFrame(diabetes_X_train, columns = ['A','B','C','D','E','F','G','H','I','J'])\n",
        "diabetes_X_test = pd.DataFrame(diabetes_X_test, columns = ['A','B','C','D','E','F','G','H','I','J'])\n",
        "\n",
        "diabetes_y_train = pd.DataFrame(diabetes_y_train, columns = ['label'])\n",
        "diabetes_y_test = pd.DataFrame(diabetes_y_test, columns = ['label'])\n",
        "diabetes_X_test"
      ],
      "metadata": {
        "colab": {
          "base_uri": "https://localhost:8080/",
          "height": 424
        },
        "id": "WLxneA4EEJ58",
        "outputId": "11b12a2e-b610-4da2-d10d-26cfb66c54ef"
      },
      "execution_count": 188,
      "outputs": [
        {
          "output_type": "execute_result",
          "data": {
            "text/plain": [
              "           A         B         C         D         E         F         G  \\\n",
              "0  -0.023677  0.050680  0.045529  0.021872  0.109883  0.088873  0.000779   \n",
              "1  -0.074533  0.050680 -0.009439  0.014987 -0.037344 -0.021669 -0.013948   \n",
              "2  -0.005515  0.050680 -0.033151 -0.015999  0.008063  0.016222  0.015505   \n",
              "3  -0.060003  0.050680  0.049840  0.018429 -0.016704 -0.030124 -0.017629   \n",
              "4  -0.020045 -0.044642 -0.084886 -0.026328 -0.035968 -0.034194  0.041277   \n",
              "..       ...       ...       ...       ...       ...       ...       ...   \n",
              "83  0.041708  0.050680  0.019662  0.059744 -0.005697 -0.002566 -0.028674   \n",
              "84 -0.005515  0.050680 -0.015906 -0.067642  0.049341  0.079165 -0.028674   \n",
              "85  0.041708  0.050680 -0.015906  0.017282 -0.037344 -0.013840 -0.024993   \n",
              "86 -0.045472 -0.044642  0.039062  0.001215  0.016318  0.015283 -0.028674   \n",
              "87 -0.045472 -0.044642 -0.073030 -0.081414  0.083740  0.027809  0.173816   \n",
              "\n",
              "           H         I         J  \n",
              "0   0.034309  0.074193  0.061054  \n",
              "1  -0.002592 -0.033249  0.011349  \n",
              "2  -0.002592 -0.028320 -0.075636  \n",
              "3  -0.002592  0.049769 -0.059067  \n",
              "4  -0.051671 -0.082381 -0.046641  \n",
              "..       ...       ...       ...  \n",
              "83 -0.002592  0.031193  0.007207  \n",
              "84  0.034309 -0.018118  0.044485  \n",
              "85 -0.011080 -0.046879  0.015491  \n",
              "86  0.026560  0.044528 -0.025930  \n",
              "87 -0.039493 -0.004220  0.003064  \n",
              "\n",
              "[88 rows x 10 columns]"
            ],
            "text/html": [
              "\n",
              "  <div id=\"df-007bd09d-1476-4b0f-85df-f0a3a9351cd8\">\n",
              "    <div class=\"colab-df-container\">\n",
              "      <div>\n",
              "<style scoped>\n",
              "    .dataframe tbody tr th:only-of-type {\n",
              "        vertical-align: middle;\n",
              "    }\n",
              "\n",
              "    .dataframe tbody tr th {\n",
              "        vertical-align: top;\n",
              "    }\n",
              "\n",
              "    .dataframe thead th {\n",
              "        text-align: right;\n",
              "    }\n",
              "</style>\n",
              "<table border=\"1\" class=\"dataframe\">\n",
              "  <thead>\n",
              "    <tr style=\"text-align: right;\">\n",
              "      <th></th>\n",
              "      <th>A</th>\n",
              "      <th>B</th>\n",
              "      <th>C</th>\n",
              "      <th>D</th>\n",
              "      <th>E</th>\n",
              "      <th>F</th>\n",
              "      <th>G</th>\n",
              "      <th>H</th>\n",
              "      <th>I</th>\n",
              "      <th>J</th>\n",
              "    </tr>\n",
              "  </thead>\n",
              "  <tbody>\n",
              "    <tr>\n",
              "      <th>0</th>\n",
              "      <td>-0.023677</td>\n",
              "      <td>0.050680</td>\n",
              "      <td>0.045529</td>\n",
              "      <td>0.021872</td>\n",
              "      <td>0.109883</td>\n",
              "      <td>0.088873</td>\n",
              "      <td>0.000779</td>\n",
              "      <td>0.034309</td>\n",
              "      <td>0.074193</td>\n",
              "      <td>0.061054</td>\n",
              "    </tr>\n",
              "    <tr>\n",
              "      <th>1</th>\n",
              "      <td>-0.074533</td>\n",
              "      <td>0.050680</td>\n",
              "      <td>-0.009439</td>\n",
              "      <td>0.014987</td>\n",
              "      <td>-0.037344</td>\n",
              "      <td>-0.021669</td>\n",
              "      <td>-0.013948</td>\n",
              "      <td>-0.002592</td>\n",
              "      <td>-0.033249</td>\n",
              "      <td>0.011349</td>\n",
              "    </tr>\n",
              "    <tr>\n",
              "      <th>2</th>\n",
              "      <td>-0.005515</td>\n",
              "      <td>0.050680</td>\n",
              "      <td>-0.033151</td>\n",
              "      <td>-0.015999</td>\n",
              "      <td>0.008063</td>\n",
              "      <td>0.016222</td>\n",
              "      <td>0.015505</td>\n",
              "      <td>-0.002592</td>\n",
              "      <td>-0.028320</td>\n",
              "      <td>-0.075636</td>\n",
              "    </tr>\n",
              "    <tr>\n",
              "      <th>3</th>\n",
              "      <td>-0.060003</td>\n",
              "      <td>0.050680</td>\n",
              "      <td>0.049840</td>\n",
              "      <td>0.018429</td>\n",
              "      <td>-0.016704</td>\n",
              "      <td>-0.030124</td>\n",
              "      <td>-0.017629</td>\n",
              "      <td>-0.002592</td>\n",
              "      <td>0.049769</td>\n",
              "      <td>-0.059067</td>\n",
              "    </tr>\n",
              "    <tr>\n",
              "      <th>4</th>\n",
              "      <td>-0.020045</td>\n",
              "      <td>-0.044642</td>\n",
              "      <td>-0.084886</td>\n",
              "      <td>-0.026328</td>\n",
              "      <td>-0.035968</td>\n",
              "      <td>-0.034194</td>\n",
              "      <td>0.041277</td>\n",
              "      <td>-0.051671</td>\n",
              "      <td>-0.082381</td>\n",
              "      <td>-0.046641</td>\n",
              "    </tr>\n",
              "    <tr>\n",
              "      <th>...</th>\n",
              "      <td>...</td>\n",
              "      <td>...</td>\n",
              "      <td>...</td>\n",
              "      <td>...</td>\n",
              "      <td>...</td>\n",
              "      <td>...</td>\n",
              "      <td>...</td>\n",
              "      <td>...</td>\n",
              "      <td>...</td>\n",
              "      <td>...</td>\n",
              "    </tr>\n",
              "    <tr>\n",
              "      <th>83</th>\n",
              "      <td>0.041708</td>\n",
              "      <td>0.050680</td>\n",
              "      <td>0.019662</td>\n",
              "      <td>0.059744</td>\n",
              "      <td>-0.005697</td>\n",
              "      <td>-0.002566</td>\n",
              "      <td>-0.028674</td>\n",
              "      <td>-0.002592</td>\n",
              "      <td>0.031193</td>\n",
              "      <td>0.007207</td>\n",
              "    </tr>\n",
              "    <tr>\n",
              "      <th>84</th>\n",
              "      <td>-0.005515</td>\n",
              "      <td>0.050680</td>\n",
              "      <td>-0.015906</td>\n",
              "      <td>-0.067642</td>\n",
              "      <td>0.049341</td>\n",
              "      <td>0.079165</td>\n",
              "      <td>-0.028674</td>\n",
              "      <td>0.034309</td>\n",
              "      <td>-0.018118</td>\n",
              "      <td>0.044485</td>\n",
              "    </tr>\n",
              "    <tr>\n",
              "      <th>85</th>\n",
              "      <td>0.041708</td>\n",
              "      <td>0.050680</td>\n",
              "      <td>-0.015906</td>\n",
              "      <td>0.017282</td>\n",
              "      <td>-0.037344</td>\n",
              "      <td>-0.013840</td>\n",
              "      <td>-0.024993</td>\n",
              "      <td>-0.011080</td>\n",
              "      <td>-0.046879</td>\n",
              "      <td>0.015491</td>\n",
              "    </tr>\n",
              "    <tr>\n",
              "      <th>86</th>\n",
              "      <td>-0.045472</td>\n",
              "      <td>-0.044642</td>\n",
              "      <td>0.039062</td>\n",
              "      <td>0.001215</td>\n",
              "      <td>0.016318</td>\n",
              "      <td>0.015283</td>\n",
              "      <td>-0.028674</td>\n",
              "      <td>0.026560</td>\n",
              "      <td>0.044528</td>\n",
              "      <td>-0.025930</td>\n",
              "    </tr>\n",
              "    <tr>\n",
              "      <th>87</th>\n",
              "      <td>-0.045472</td>\n",
              "      <td>-0.044642</td>\n",
              "      <td>-0.073030</td>\n",
              "      <td>-0.081414</td>\n",
              "      <td>0.083740</td>\n",
              "      <td>0.027809</td>\n",
              "      <td>0.173816</td>\n",
              "      <td>-0.039493</td>\n",
              "      <td>-0.004220</td>\n",
              "      <td>0.003064</td>\n",
              "    </tr>\n",
              "  </tbody>\n",
              "</table>\n",
              "<p>88 rows × 10 columns</p>\n",
              "</div>\n",
              "      <button class=\"colab-df-convert\" onclick=\"convertToInteractive('df-007bd09d-1476-4b0f-85df-f0a3a9351cd8')\"\n",
              "              title=\"Convert this dataframe to an interactive table.\"\n",
              "              style=\"display:none;\">\n",
              "        \n",
              "  <svg xmlns=\"http://www.w3.org/2000/svg\" height=\"24px\"viewBox=\"0 0 24 24\"\n",
              "       width=\"24px\">\n",
              "    <path d=\"M0 0h24v24H0V0z\" fill=\"none\"/>\n",
              "    <path d=\"M18.56 5.44l.94 2.06.94-2.06 2.06-.94-2.06-.94-.94-2.06-.94 2.06-2.06.94zm-11 1L8.5 8.5l.94-2.06 2.06-.94-2.06-.94L8.5 2.5l-.94 2.06-2.06.94zm10 10l.94 2.06.94-2.06 2.06-.94-2.06-.94-.94-2.06-.94 2.06-2.06.94z\"/><path d=\"M17.41 7.96l-1.37-1.37c-.4-.4-.92-.59-1.43-.59-.52 0-1.04.2-1.43.59L10.3 9.45l-7.72 7.72c-.78.78-.78 2.05 0 2.83L4 21.41c.39.39.9.59 1.41.59.51 0 1.02-.2 1.41-.59l7.78-7.78 2.81-2.81c.8-.78.8-2.07 0-2.86zM5.41 20L4 18.59l7.72-7.72 1.47 1.35L5.41 20z\"/>\n",
              "  </svg>\n",
              "      </button>\n",
              "      \n",
              "  <style>\n",
              "    .colab-df-container {\n",
              "      display:flex;\n",
              "      flex-wrap:wrap;\n",
              "      gap: 12px;\n",
              "    }\n",
              "\n",
              "    .colab-df-convert {\n",
              "      background-color: #E8F0FE;\n",
              "      border: none;\n",
              "      border-radius: 50%;\n",
              "      cursor: pointer;\n",
              "      display: none;\n",
              "      fill: #1967D2;\n",
              "      height: 32px;\n",
              "      padding: 0 0 0 0;\n",
              "      width: 32px;\n",
              "    }\n",
              "\n",
              "    .colab-df-convert:hover {\n",
              "      background-color: #E2EBFA;\n",
              "      box-shadow: 0px 1px 2px rgba(60, 64, 67, 0.3), 0px 1px 3px 1px rgba(60, 64, 67, 0.15);\n",
              "      fill: #174EA6;\n",
              "    }\n",
              "\n",
              "    [theme=dark] .colab-df-convert {\n",
              "      background-color: #3B4455;\n",
              "      fill: #D2E3FC;\n",
              "    }\n",
              "\n",
              "    [theme=dark] .colab-df-convert:hover {\n",
              "      background-color: #434B5C;\n",
              "      box-shadow: 0px 1px 3px 1px rgba(0, 0, 0, 0.15);\n",
              "      filter: drop-shadow(0px 1px 2px rgba(0, 0, 0, 0.3));\n",
              "      fill: #FFFFFF;\n",
              "    }\n",
              "  </style>\n",
              "\n",
              "      <script>\n",
              "        const buttonEl =\n",
              "          document.querySelector('#df-007bd09d-1476-4b0f-85df-f0a3a9351cd8 button.colab-df-convert');\n",
              "        buttonEl.style.display =\n",
              "          google.colab.kernel.accessAllowed ? 'block' : 'none';\n",
              "\n",
              "        async function convertToInteractive(key) {\n",
              "          const element = document.querySelector('#df-007bd09d-1476-4b0f-85df-f0a3a9351cd8');\n",
              "          const dataTable =\n",
              "            await google.colab.kernel.invokeFunction('convertToInteractive',\n",
              "                                                     [key], {});\n",
              "          if (!dataTable) return;\n",
              "\n",
              "          const docLinkHtml = 'Like what you see? Visit the ' +\n",
              "            '<a target=\"_blank\" href=https://colab.research.google.com/notebooks/data_table.ipynb>data table notebook</a>'\n",
              "            + ' to learn more about interactive tables.';\n",
              "          element.innerHTML = '';\n",
              "          dataTable['output_type'] = 'display_data';\n",
              "          await google.colab.output.renderOutput(dataTable, element);\n",
              "          const docLink = document.createElement('div');\n",
              "          docLink.innerHTML = docLinkHtml;\n",
              "          element.appendChild(docLink);\n",
              "        }\n",
              "      </script>\n",
              "    </div>\n",
              "  </div>\n",
              "  "
            ]
          },
          "metadata": {},
          "execution_count": 188
        }
      ]
    },
    {
      "cell_type": "markdown",
      "source": [
        "**Add column of ones**\n",
        "\n",
        "Now add a column of ones to X for easier matrix manipulation of our hypothesis and cost function later on. "
      ],
      "metadata": {
        "id": "VtGIt2n-iZqs"
      }
    },
    {
      "cell_type": "code",
      "source": [
        "diabetes_X_test[\"Intercept\"] = 1\n",
        "diabetes_X_train[\"Intercept\"] = 1\n",
        "np.set_printoptions(formatter={'float_kind':'{:f}'.format})\n",
        "cross_tab = np.matmul(np.matrix.transpose(diabetes_X_train.values), diabetes_X_train.values)\n",
        "cross_tab"
      ],
      "metadata": {
        "colab": {
          "base_uri": "https://localhost:8080/",
          "height": 0
        },
        "id": "pY0zRaooCsjf",
        "outputId": "9cb1eccb-90fc-4fe4-ed8a-1a88ff4c0f2c"
      },
      "execution_count": 189,
      "outputs": [
        {
          "output_type": "execute_result",
          "data": {
            "text/plain": [
              "array([[0.831145, 0.142308, 0.159918, 0.257529, 0.225069, 0.188774,\n",
              "        -0.034304, 0.157329, 0.207618, 0.232650, 0.260063],\n",
              "       [0.142308, 0.800452, 0.061975, 0.173611, -0.000857, 0.096661,\n",
              "        -0.309510, 0.258148, 0.079271, 0.183943, -0.075050],\n",
              "       [0.159918, 0.061975, 0.757806, 0.307323, 0.222875, 0.237738,\n",
              "        -0.291233, 0.357209, 0.352310, 0.308502, -0.267624],\n",
              "       [0.257529, 0.173611, 0.307323, 0.796524, 0.213421, 0.167943,\n",
              "        -0.126681, 0.211341, 0.303888, 0.311877, 0.062917],\n",
              "       [0.225069, -0.000857, 0.222875, 0.213421, 0.794976, 0.707667,\n",
              "        0.044769, 0.433351, 0.409985, 0.276294, 0.077527],\n",
              "       [0.188774, 0.096661, 0.237738, 0.167943, 0.707667, 0.791005,\n",
              "        -0.173801, 0.536587, 0.255903, 0.247785, 0.095267],\n",
              "       [-0.034304, -0.309510, -0.291233, -0.126681, 0.044769, -0.173801,\n",
              "        0.835434, -0.624283, -0.306339, -0.233202, 0.156045],\n",
              "       [0.157329, 0.258148, 0.357209, 0.211341, 0.433351, 0.536587,\n",
              "        -0.624283, 0.841694, 0.497741, 0.366450, 0.014093],\n",
              "       [0.207618, 0.079271, 0.352310, 0.303888, 0.409985, 0.255903,\n",
              "        -0.306339, 0.497741, 0.780338, 0.388566, -0.066984],\n",
              "       [0.232650, 0.183943, 0.308502, 0.311877, 0.276294, 0.247785,\n",
              "        -0.233202, 0.366450, 0.388566, 0.788533, -0.228247],\n",
              "       [0.260063, -0.075050, -0.267624, 0.062917, 0.077527, 0.095267,\n",
              "        0.156045, 0.014093, -0.066984, -0.228247, 354.000000]])"
            ]
          },
          "metadata": {},
          "execution_count": 189
        }
      ]
    },
    {
      "cell_type": "code",
      "source": [
        "X = diabetes_X_train[[\"Intercept\", 'A','B','C','D','E','F','G','H','I','J']].values\n",
        "y = diabetes_y_train[[\"label\"]].values\n",
        "\n",
        "Xt = diabetes_X_test[[\"Intercept\", 'A','B','C','D','E','F','G','H','I','J']].values\n",
        "yt = diabetes_y_test[[\"label\"]].values"
      ],
      "metadata": {
        "id": "VEVXBlVo28Ng"
      },
      "execution_count": 190,
      "outputs": []
    },
    {
      "cell_type": "markdown",
      "source": [
        "Now I want to calculate through the direct mode.\n",
        "\n",
        "---\n",
        "\n",
        "\n",
        "\n",
        "---\n",
        "\n",
        "\n",
        "\n",
        "$\\Theta=(X^{T}X)^{-1}(X^{T}Y)$"
      ],
      "metadata": {
        "id": "521WM_AAmMQb"
      }
    },
    {
      "cell_type": "code",
      "source": [
        "XT_X = np.matmul(XT, X)\n",
        "XT_X"
      ],
      "metadata": {
        "colab": {
          "base_uri": "https://localhost:8080/",
          "height": 0
        },
        "id": "vcyJ6UuuFrKA",
        "outputId": "ae57d921-8cbe-4d8c-afff-dae77c6765b7"
      },
      "execution_count": 191,
      "outputs": [
        {
          "output_type": "execute_result",
          "data": {
            "text/plain": [
              "array([[354.000000, 0.260063, -0.075050, -0.267624, 0.062917, 0.077527,\n",
              "        0.095267, 0.156045, 0.014093, -0.066984, -0.228247],\n",
              "       [0.260063, 0.831145, 0.142308, 0.159918, 0.257529, 0.225069,\n",
              "        0.188774, -0.034304, 0.157329, 0.207618, 0.232650],\n",
              "       [-0.075050, 0.142308, 0.800452, 0.061975, 0.173611, -0.000857,\n",
              "        0.096661, -0.309510, 0.258148, 0.079271, 0.183943],\n",
              "       [-0.267624, 0.159918, 0.061975, 0.757806, 0.307323, 0.222875,\n",
              "        0.237738, -0.291233, 0.357209, 0.352310, 0.308502],\n",
              "       [0.062917, 0.257529, 0.173611, 0.307323, 0.796524, 0.213421,\n",
              "        0.167943, -0.126681, 0.211341, 0.303888, 0.311877],\n",
              "       [0.077527, 0.225069, -0.000857, 0.222875, 0.213421, 0.794976,\n",
              "        0.707667, 0.044769, 0.433351, 0.409985, 0.276294],\n",
              "       [0.095267, 0.188774, 0.096661, 0.237738, 0.167943, 0.707667,\n",
              "        0.791005, -0.173801, 0.536587, 0.255903, 0.247785],\n",
              "       [0.156045, -0.034304, -0.309510, -0.291233, -0.126681, 0.044769,\n",
              "        -0.173801, 0.835434, -0.624283, -0.306339, -0.233202],\n",
              "       [0.014093, 0.157329, 0.258148, 0.357209, 0.211341, 0.433351,\n",
              "        0.536587, -0.624283, 0.841694, 0.497741, 0.366450],\n",
              "       [-0.066984, 0.207618, 0.079271, 0.352310, 0.303888, 0.409985,\n",
              "        0.255903, -0.306339, 0.497741, 0.780338, 0.388566],\n",
              "       [-0.228247, 0.232650, 0.183943, 0.308502, 0.311877, 0.276294,\n",
              "        0.247785, -0.233202, 0.366450, 0.388566, 0.788533]])"
            ]
          },
          "metadata": {},
          "execution_count": 191
        }
      ]
    },
    {
      "cell_type": "code",
      "source": [
        "XT = np.matrix.transpose(X)"
      ],
      "metadata": {
        "id": "ERp8IlwYFQvx"
      },
      "execution_count": 192,
      "outputs": []
    },
    {
      "cell_type": "code",
      "source": [
        "XT_X_inv = np.linalg.inv(XT_X)\n",
        "XT_X_inv"
      ],
      "metadata": {
        "colab": {
          "base_uri": "https://localhost:8080/",
          "height": 0
        },
        "id": "vAe0cVJ1FuWi",
        "outputId": "0ca3124d-865a-4f81-96e3-8aeab689bbec"
      },
      "execution_count": 193,
      "outputs": [
        {
          "output_type": "execute_result",
          "data": {
            "text/plain": [
              "array([[0.002830, -0.001089, 0.000465, 0.001458, -0.000845, 0.010475,\n",
              "        -0.007880, -0.005826, -0.003642, -0.003331, 0.001212],\n",
              "       [-0.001089, 1.461256, -0.208485, -0.053855, -0.262176, 0.313990,\n",
              "        -0.478855, -0.319551, 0.052926, -0.319057, -0.179472],\n",
              "       [0.000465, -0.208485, 1.626795, 0.262824, -0.300050, 0.211181,\n",
              "        -0.057438, 0.406755, -0.336723, 0.279871, -0.219074],\n",
              "       [0.001458, -0.053855, 0.262824, 2.041989, -0.460931, 1.139085,\n",
              "        -1.162852, 0.016235, -0.073180, -0.784282, -0.270025],\n",
              "       [-0.000845, -0.262176, -0.300050, -0.460931, 1.799079, -0.546602,\n",
              "        0.272957, 0.228012, 0.426018, -0.229631, -0.295771],\n",
              "       [0.010475, 0.313990, 0.211181, 1.139085, -0.546602, 75.543011,\n",
              "        -59.480977, -33.771744, -10.433314, -27.267103, 0.150532],\n",
              "       [-0.007880, -0.478855, -0.057438, -1.162852, 0.272957, -59.480977,\n",
              "        50.376152, 24.381456, 3.932913, 22.421990, -0.155066],\n",
              "       [-0.005826, -0.319551, 0.406755, 0.016235, 0.228012, -33.771744,\n",
              "        24.381456, 19.504282, 9.549627, 11.356589, -0.192973],\n",
              "       [-0.003642, 0.052926, -0.336723, -0.073180, 0.426018, -10.433314,\n",
              "        3.932913, 9.549627, 10.558928, 1.276978, -0.370138],\n",
              "       [-0.003331, -0.319057, 0.279871, -0.784282, -0.229631, -27.267103,\n",
              "        22.421990, 11.356589, 1.276978, 12.668577, -0.543656],\n",
              "       [0.001212, -0.179472, -0.219074, -0.270025, -0.295771, 0.150532,\n",
              "        -0.155066, -0.192973, -0.370138, -0.543656, 1.974032]])"
            ]
          },
          "metadata": {},
          "execution_count": 193
        }
      ]
    },
    {
      "cell_type": "code",
      "source": [
        "XT_y = np.matmul(XT, y)\n",
        "XT_y"
      ],
      "metadata": {
        "colab": {
          "base_uri": "https://localhost:8080/",
          "height": 0
        },
        "id": "IT5yHdJUFzgy",
        "outputId": "137545f9-9fec-454f-a8f6-3309be329237"
      },
      "execution_count": 194,
      "outputs": [
        {
          "output_type": "execute_result",
          "data": {
            "text/plain": [
              "array([[53581.000000],\n",
              "       [268.755930],\n",
              "       [9.783420],\n",
              "       [684.525956],\n",
              "       [549.189316],\n",
              "       [302.778582],\n",
              "       [262.373044],\n",
              "       [-480.551509],\n",
              "       [583.020195],\n",
              "       [705.915304],\n",
              "       [467.168531]])"
            ]
          },
          "metadata": {},
          "execution_count": 194
        }
      ]
    },
    {
      "cell_type": "markdown",
      "source": [
        "As we see from the formula, we want to calculate the $\\theta$ function."
      ],
      "metadata": {
        "id": "i7YXl4TPneke"
      }
    },
    {
      "cell_type": "code",
      "source": [
        "thetas = np.matmul(XT_X_inv, XT_y)\n",
        "thetas\n"
      ],
      "metadata": {
        "colab": {
          "base_uri": "https://localhost:8080/",
          "height": 0
        },
        "id": "ifmLq-QMF3UX",
        "outputId": "54b2744f-1769-41bb-ac0e-bfeb8f3bffc3"
      },
      "execution_count": 195,
      "outputs": [
        {
          "output_type": "execute_result",
          "data": {
            "text/plain": [
              "array([[151.859501],\n",
              "       [-3.742844],\n",
              "       [-247.762264],\n",
              "       [520.395997],\n",
              "       [298.512841],\n",
              "       [-637.839376],\n",
              "       [342.218503],\n",
              "       [35.404933],\n",
              "       [168.083838],\n",
              "       [678.601534],\n",
              "       [87.564379]])"
            ]
          },
          "metadata": {},
          "execution_count": 195
        }
      ]
    },
    {
      "cell_type": "code",
      "source": [
        "import statsmodels.api as sm\n",
        "\n",
        "regressor = sm.OLS(y, X).fit()\n",
        "print(regressor.summary())"
      ],
      "metadata": {
        "colab": {
          "base_uri": "https://localhost:8080/",
          "height": 0
        },
        "id": "S6LbD7W0F7FU",
        "outputId": "da4709fa-0c47-4177-8455-aa7d06d14fa7"
      },
      "execution_count": 196,
      "outputs": [
        {
          "output_type": "stream",
          "name": "stdout",
          "text": [
            "                            OLS Regression Results                            \n",
            "==============================================================================\n",
            "Dep. Variable:                      y   R-squared:                       0.508\n",
            "Model:                            OLS   Adj. R-squared:                  0.493\n",
            "Method:                 Least Squares   F-statistic:                     35.38\n",
            "Date:                Sat, 22 Oct 2022   Prob (F-statistic):           4.21e-47\n",
            "Time:                        16:57:36   Log-Likelihood:                -1910.4\n",
            "No. Observations:                 354   AIC:                             3843.\n",
            "Df Residuals:                     343   BIC:                             3885.\n",
            "Df Model:                          10                                         \n",
            "Covariance Type:            nonrobust                                         \n",
            "==============================================================================\n",
            "                 coef    std err          t      P>|t|      [0.025      0.975]\n",
            "------------------------------------------------------------------------------\n",
            "const        151.8595      2.886     52.625      0.000     146.184     157.535\n",
            "x1            -3.7428     65.575     -0.057      0.955    -132.723     125.237\n",
            "x2          -247.7623     69.190     -3.581      0.000    -383.852    -111.672\n",
            "x3           520.3960     77.518      6.713      0.000     367.925     672.867\n",
            "x4           298.5128     72.762      4.103      0.000     155.398     441.628\n",
            "x5          -637.8394    471.492     -1.353      0.177   -1565.219     289.540\n",
            "x6           342.2185    385.025      0.889      0.375    -415.090    1099.527\n",
            "x7            35.4049    239.575      0.148      0.883    -435.817     506.627\n",
            "x8           168.0838    176.273      0.954      0.341    -178.629     514.797\n",
            "x9           678.6015    193.082      3.515      0.000     298.829    1058.375\n",
            "x10           87.5644     76.217      1.149      0.251     -62.348     237.477\n",
            "==============================================================================\n",
            "Omnibus:                        1.555   Durbin-Watson:                   1.998\n",
            "Prob(Omnibus):                  0.459   Jarque-Bera (JB):                1.436\n",
            "Skew:                           0.038   Prob(JB):                        0.488\n",
            "Kurtosis:                       2.697   Cond. No.                         230.\n",
            "==============================================================================\n",
            "\n",
            "Notes:\n",
            "[1] Standard Errors assume that the covariance matrix of the errors is correctly specified.\n"
          ]
        }
      ]
    },
    {
      "cell_type": "code",
      "source": [
        "yT_y = cross_tab[-1:, -1:]\n",
        "n = cross_tab[:1, :1]\n",
        "y_bar_square = np.square(cross_tab[:1, -1:])\n",
        "\n",
        "SST = yT_y - (y_bar_square / n)\n",
        "SST"
      ],
      "metadata": {
        "colab": {
          "base_uri": "https://localhost:8080/",
          "height": 0
        },
        "id": "AEWvPKl7GA19",
        "outputId": "3ee15910-536a-404c-c824-09797aba7a8f"
      },
      "execution_count": 197,
      "outputs": [
        {
          "output_type": "execute_result",
          "data": {
            "text/plain": [
              "array([[353.918627]])"
            ]
          },
          "metadata": {},
          "execution_count": 197
        }
      ]
    },
    {
      "cell_type": "code",
      "source": [
        "n = cross_tab[:1, :1]\n",
        "y_bar_square = np.square(cross_tab[:1, -1:])\n",
        "\n",
        "SSR = np.sum(np.multiply(thetas, XT_y)) - (y_bar_square / n)\n",
        "SSR"
      ],
      "metadata": {
        "colab": {
          "base_uri": "https://localhost:8080/",
          "height": 0
        },
        "id": "Dd5zmazqGPBk",
        "outputId": "47454053-c418-46a5-afc8-8e26e1a2cd3a"
      },
      "execution_count": 199,
      "outputs": [
        {
          "output_type": "execute_result",
          "data": {
            "text/plain": [
              "array([[9151108.332670]])"
            ]
          },
          "metadata": {},
          "execution_count": 199
        }
      ]
    },
    {
      "cell_type": "code",
      "source": [
        "r_square = SSR / SST\n",
        "r_square"
      ],
      "metadata": {
        "colab": {
          "base_uri": "https://localhost:8080/",
          "height": 0
        },
        "id": "XujXmndOGVSN",
        "outputId": "3dd750a4-d0bf-4462-c658-d0cda6d254ee"
      },
      "execution_count": 200,
      "outputs": [
        {
          "output_type": "execute_result",
          "data": {
            "text/plain": [
              "array([[25856.532100]])"
            ]
          },
          "metadata": {},
          "execution_count": 200
        }
      ]
    },
    {
      "cell_type": "code",
      "source": [
        "\t\n",
        "# predict using coefficients\n",
        "yhat = Xt.dot(thetas)\n",
        "yhat"
      ],
      "metadata": {
        "colab": {
          "base_uri": "https://localhost:8080/",
          "height": 0
        },
        "id": "eutJWuyHGXQI",
        "outputId": "ce4151a1-d62f-4bf3-9c6d-dae56427b348"
      },
      "execution_count": 201,
      "outputs": [
        {
          "output_type": "execute_result",
          "data": {
            "text/plain": [
              "array([[191.427555],\n",
              "       [133.048774],\n",
              "       [91.976773],\n",
              "       [198.852519],\n",
              "       [54.989177],\n",
              "       [173.714961],\n",
              "       [196.458535],\n",
              "       [120.510688],\n",
              "       [233.230431],\n",
              "       [163.516982],\n",
              "       [161.252977],\n",
              "       [163.876352],\n",
              "       [253.655715],\n",
              "       [255.594089],\n",
              "       [197.810683],\n",
              "       [185.446450],\n",
              "       [60.136369],\n",
              "       [194.752154],\n",
              "       [109.341536],\n",
              "       [143.032922],\n",
              "       [127.928789],\n",
              "       [176.043941],\n",
              "       [209.935076],\n",
              "       [166.335901],\n",
              "       [162.179846],\n",
              "       [137.529834],\n",
              "       [174.203112],\n",
              "       [74.273889],\n",
              "       [249.476028],\n",
              "       [113.968623],\n",
              "       [108.938506],\n",
              "       [138.307753],\n",
              "       [110.872973],\n",
              "       [95.737802],\n",
              "       [159.503009],\n",
              "       [75.560608],\n",
              "       [254.527133],\n",
              "       [57.215126],\n",
              "       [99.570307],\n",
              "       [101.808954],\n",
              "       [261.249383],\n",
              "       [168.813523],\n",
              "       [64.200434],\n",
              "       [183.107140],\n",
              "       [169.903161],\n",
              "       [187.008544],\n",
              "       [184.805878],\n",
              "       [90.376296],\n",
              "       [148.745925],\n",
              "       [251.588736],\n",
              "       [198.127711],\n",
              "       [279.870444],\n",
              "       [51.412531],\n",
              "       [175.317737],\n",
              "       [201.501720],\n",
              "       [170.209760],\n",
              "       [155.296086],\n",
              "       [152.875063],\n",
              "       [232.747954],\n",
              "       [122.876688],\n",
              "       [163.183031],\n",
              "       [172.878832],\n",
              "       [225.283822],\n",
              "       [152.366554],\n",
              "       [99.613128],\n",
              "       [84.108354],\n",
              "       [142.051055],\n",
              "       [189.883285],\n",
              "       [195.331731],\n",
              "       [150.020750],\n",
              "       [171.088852],\n",
              "       [113.075900],\n",
              "       [161.346473],\n",
              "       [130.976803],\n",
              "       [257.196880],\n",
              "       [100.364386],\n",
              "       [116.383785],\n",
              "       [121.479385],\n",
              "       [219.426698],\n",
              "       [61.972948],\n",
              "       [132.733000],\n",
              "       [120.518188],\n",
              "       [54.183853],\n",
              "       [190.315965],\n",
              "       [102.825689],\n",
              "       [121.907933],\n",
              "       [209.997799],\n",
              "       [53.806932]])"
            ]
          },
          "metadata": {},
          "execution_count": 201
        }
      ]
    },
    {
      "cell_type": "code",
      "source": [
        "print('MSE:',mean_squared_error(yhat,yt))\n",
        "# R2 score = 1 - (MSE / (variance of data))\n",
        "print('R2 score:',r2_score(yhat,yt))"
      ],
      "metadata": {
        "colab": {
          "base_uri": "https://localhost:8080/",
          "height": 0
        },
        "id": "Sd7UFhJ-LfJ6",
        "outputId": "6f9a2572-cd56-4345-e492-84bb057affd4"
      },
      "execution_count": 202,
      "outputs": [
        {
          "output_type": "stream",
          "name": "stdout",
          "text": [
            "MSE: 2910.206933266525\n",
            "R2 score: 0.07446875020469845\n"
          ]
        }
      ]
    },
    {
      "cell_type": "code",
      "source": [
        "plt.scatter(yt,yhat)\n",
        "plt.xlabel('y_test')\n",
        "plt.ylabel('Predicted y')"
      ],
      "metadata": {
        "colab": {
          "base_uri": "https://localhost:8080/",
          "height": 297
        },
        "id": "hd12SzVEGmsm",
        "outputId": "95149a9c-a838-42a9-a941-6598368ea38c"
      },
      "execution_count": 253,
      "outputs": [
        {
          "output_type": "execute_result",
          "data": {
            "text/plain": [
              "Text(0, 0.5, 'Predicted y')"
            ]
          },
          "metadata": {},
          "execution_count": 253
        },
        {
          "output_type": "display_data",
          "data": {
            "text/plain": [
              "<Figure size 432x288 with 1 Axes>"
            ],
            "image/png": "[encoded data removed]"
          },
          "metadata": {
            "needs_background": "light"
          }
        }
      ]
    },
    {
      "cell_type": "code",
      "source": [
        "import sklearn\n",
        "sklearn.metrics.r2_score(yt,yhat)"
      ],
      "metadata": {
        "colab": {
          "base_uri": "https://localhost:8080/",
          "height": 0
        },
        "id": "2eOaLgniGz3w",
        "outputId": "a69cbf0a-4b26-43dd-e0ee-76643969b2ee"
      },
      "execution_count": 254,
      "outputs": [
        {
          "output_type": "execute_result",
          "data": {
            "text/plain": [
              "0.5502492259658616"
            ]
          },
          "metadata": {},
          "execution_count": 254
        }
      ]
    },
    {
      "cell_type": "markdown",
      "source": [
        "**Gradient Descent**\n",
        "\n",
        "---\n",
        "\n",
        "Now, I am solving linear regression problem by minimizing the cost: \n",
        "\n",
        "$C =  \\frac{1}{N} \\left \\| \\mathbf{y} - \\mathbf{Xw} \\right \\|^{2}$\n",
        "\n",
        "\n",
        "The gradient is:\n",
        "$\\nabla C = -\\frac{2}{N} \\mathbf{X}^{T}\\left ( \\mathbf{y} - \\mathbf{Xw} \\right )$\n"
      ],
      "metadata": {
        "id": "_V7oDJHYoicc"
      }
    },
    {
      "cell_type": "code",
      "execution_count": 255,
      "metadata": {
        "id": "BbmbqO6uBC1d"
      },
      "outputs": [],
      "source": [
        "import numpy as np\n",
        "\n",
        "class LinearRegression:\n",
        "  def __init__(self,learning_rate=0.0001, n_iter=500, fit_intercept=True):\n",
        "    self.learning_rate = learning_rate\n",
        "    self.n_iter = n_iter\n",
        "    self.fit_intercept = fit_intercept\n",
        "    self.weights = []\n",
        "  \n",
        "  def fit(self,X,y):\n",
        "    if self.fit_intercept:\n",
        "      column_of_ones = np.ones((X.shape[0],1))\n",
        "      X = np.append(column_of_ones,X,axis=1)\n",
        "  \n",
        "    n_samples, n_features = X.shape\n",
        "\n",
        "    self.weights = np.zeros( (n_features,1), dtype=np.float32 )\n",
        "\n",
        "    # Gradient descent\n",
        "    for i in range(self.n_iter):\n",
        "\n",
        "      y_pred = np.matmul(X, self.weights)\n",
        "\n",
        "      grad_w = -(2/n_samples) * np.matmul( X.T, (y-y_pred)  )\n",
        "\n",
        "      self.weights -= self.learning_rate * grad_w\n",
        "\n",
        "\n",
        "  def predict(self,X):\n",
        "    if self.fit_intercept:\n",
        "      column_of_ones = np.ones((X.shape[0],1))\n",
        "      X = np.append(column_of_ones,X,axis=1)\n",
        "    \n",
        "    return np.matmul(X, self.weights)\n",
        "\n"
      ]
    },
    {
      "cell_type": "code",
      "source": [
        "from sklearn import linear_model\n",
        "from sklearn.metrics import mean_squared_error, r2_score\n",
        "\n",
        "lr_skmodel = linear_model.LinearRegression()\n",
        "\n",
        "lr_skmodel.fit(X,y)\n",
        "\n",
        "print('Coefficients:',lr_skmodel.coef_)\n",
        "\n",
        "y_pred = lr_skmodel.predict(Xt) # compare y_test\n",
        "\n",
        "print('MSE:',mean_squared_error(y_pred,yt))\n",
        "# R2 score = 1 - (MSE / (variance of data))\n",
        "print('R2 score:',r2_score(y_pred,yt))\n",
        "\n",
        "\n",
        "plt.scatter(yt,y_pred)\n",
        "plt.xlabel('y_test')\n",
        "plt.ylabel('Predicted y')"
      ],
      "metadata": {
        "colab": {
          "base_uri": "https://localhost:8080/",
          "height": 367
        },
        "id": "U6xcqbp-Ks0S",
        "outputId": "9e7f0a1b-6cb3-4da6-a9dc-ee472158fc11"
      },
      "execution_count": 257,
      "outputs": [
        {
          "output_type": "stream",
          "name": "stdout",
          "text": [
            "Coefficients: [[0.000000 -3.742844 -247.762264 520.395997 298.512841 -637.839376\n",
            "  342.218503 35.404933 168.083838 678.601534 87.564379]]\n",
            "MSE: 2910.2069332665283\n",
            "R2 score: 0.0744687502046969\n"
          ]
        },
        {
          "output_type": "execute_result",
          "data": {
            "text/plain": [
              "Text(0, 0.5, 'Predicted y')"
            ]
          },
          "metadata": {},
          "execution_count": 257
        },
        {
          "output_type": "display_data",
          "data": {
            "text/plain": [
              "<Figure size 432x288 with 1 Axes>"
            ],
            "image/png": "[encoded data removed]"
          },
          "metadata": {
            "needs_background": "light"
          }
        }
      ]
    },
    {
      "cell_type": "code",
      "source": [
        "import sklearn\n",
        "sklearn.metrics.r2_score(yt,yhat)"
      ],
      "metadata": {
        "colab": {
          "base_uri": "https://localhost:8080/",
          "height": 0
        },
        "id": "wze7Jsn2LQTN",
        "outputId": "ba108966-c8bc-4e2b-ba63-c413799ebc28"
      },
      "execution_count": 258,
      "outputs": [
        {
          "output_type": "execute_result",
          "data": {
            "text/plain": [
              "0.5502492259658616"
            ]
          },
          "metadata": {},
          "execution_count": 258
        }
      ]
    },
    {
      "cell_type": "code",
      "execution_count": 259,
      "metadata": {
        "id": "LfPx-qztQD-P"
      },
      "outputs": [],
      "source": [
        "import numpy as np\n",
        "\n",
        "class LinearRegression:\n",
        "  def __init__(self,learning_rate=0.0001, n_iter=500, fit_intercept=True):\n",
        "    self.learning_rate = learning_rate\n",
        "    self.n_iter = n_iter\n",
        "    self.fit_intercept = fit_intercept\n",
        "    self.weights = []\n",
        "  \n",
        "  def fit(self,X,y):\n",
        "    if self.fit_intercept:\n",
        "      column_of_ones = np.ones((X.shape[0],1))\n",
        "      X = np.append(column_of_ones,X,axis=1)\n",
        "  \n",
        "    n_samples, n_features = X.shape\n",
        "\n",
        "    self.weights = np.zeros( (n_features,1), dtype=np.float32 )\n",
        "\n",
        "    # Gradient descent\n",
        "    for i in range(self.n_iter):\n",
        "\n",
        "      y_pred = np.matmul(X, self.weights)\n",
        "\n",
        "      grad_w = -(2/n_samples) * np.matmul( X.T, (y-y_pred)  )\n",
        "\n",
        "      self.weights -= self.learning_rate * grad_w\n",
        "\n",
        "\n",
        "  def predict(self,X):\n",
        "    if self.fit_intercept:\n",
        "      column_of_ones = np.ones((X.shape[0],1))\n",
        "      X = np.append(column_of_ones,X,axis=1)\n",
        "    \n",
        "    return np.matmul(X, self.weights)\n",
        "\n"
      ]
    },
    {
      "cell_type": "code",
      "source": [
        "lrmodel = LinearRegression(learning_rate=0.0005,n_iter=100000,fit_intercept=True)\n",
        "lrmodel.fit(X,y)\n",
        "print(lrmodel.weights)\n"
      ],
      "metadata": {
        "colab": {
          "base_uri": "https://localhost:8080/",
          "height": 0
        },
        "id": "QPfblocjQqGu",
        "outputId": "6b1c6dbf-9675-4568-cc58-81c9e0e3e41e"
      },
      "execution_count": 260,
      "outputs": [
        {
          "output_type": "stream",
          "name": "stdout",
          "text": [
            "[[75.765945]\n",
            " [75.765945]\n",
            " [37.187241]\n",
            " [-12.957762]\n",
            " [154.003891]\n",
            " [110.085091]\n",
            " [41.531887]\n",
            " [29.075857]\n",
            " [-98.409035]\n",
            " [103.784019]\n",
            " [145.793289]\n",
            " [93.424103]]\n"
          ]
        }
      ]
    },
    {
      "cell_type": "code",
      "source": [
        "y_pred1 = lrmodel.predict(Xt)"
      ],
      "metadata": {
        "id": "Ia-4_lljRIms"
      },
      "execution_count": 261,
      "outputs": []
    },
    {
      "cell_type": "code",
      "source": [
        "plt.scatter(yt,y_pred1)\n",
        "plt.xlabel('y_test')\n",
        "plt.ylabel('Predicted y')"
      ],
      "metadata": {
        "colab": {
          "base_uri": "https://localhost:8080/",
          "height": 297
        },
        "id": "FgyJTYFjRJWy",
        "outputId": "74a73218-cbf7-4460-e2eb-873ad5e55a66"
      },
      "execution_count": 263,
      "outputs": [
        {
          "output_type": "execute_result",
          "data": {
            "text/plain": [
              "Text(0, 0.5, 'Predicted y')"
            ]
          },
          "metadata": {},
          "execution_count": 263
        },
        {
          "output_type": "display_data",
          "data": {
            "text/plain": [
              "<Figure size 432x288 with 1 Axes>"
            ],
            "image/png": "[encoded data removed]"
          },
          "metadata": {
            "needs_background": "light"
          }
        }
      ]
    },
    {
      "cell_type": "code",
      "source": [
        "print('MSE:',mean_squared_error(y_pred1,yt))\n",
        "# R2 score = 1 - (MSE / (variance of data))\n",
        "print('R2 score:',r2_score(y_pred1,yt))"
      ],
      "metadata": {
        "colab": {
          "base_uri": "https://localhost:8080/",
          "height": 0
        },
        "id": "-gAN1zy0SrTU",
        "outputId": "e561fb15-aec0-4002-e49e-a9bdb08b3ea3"
      },
      "execution_count": 264,
      "outputs": [
        {
          "output_type": "stream",
          "name": "stdout",
          "text": [
            "MSE: 4322.297674447385\n",
            "R2 score: -5.461138132061364\n"
          ]
        }
      ]
    },
    {
      "cell_type": "code",
      "source": [
        "import sklearn\n",
        "sklearn.metrics.r2_score(yt,y_pred1)"
      ],
      "metadata": {
        "colab": {
          "base_uri": "https://localhost:8080/",
          "height": 0
        },
        "id": "baYmBpD4ZRng",
        "outputId": "b05030bb-2bbe-473e-c2f9-a6ce8480f7d8"
      },
      "execution_count": 265,
      "outputs": [
        {
          "output_type": "execute_result",
          "data": {
            "text/plain": [
              "0.3320211348315707"
            ]
          },
          "metadata": {},
          "execution_count": 265
        }
      ]
    },
    {
      "cell_type": "code",
      "source": [
        "import matplotlib.pyplot as plt  \n",
        "def linear_regression(x, y, m_current=0, b_current=0, epochs=10000, learning_rate=0.0001):\n",
        "    cost_list = []  \n",
        "    N = float(len(y))\n",
        "    for i in range(epochs):\n",
        "        y_current = (m_current * x) + b_current\n",
        "        cost = sum([data**2 for data in (y-y_current)]) / N\n",
        "        cost_list.append(cost)     \n",
        "        m_gradient = -(2/N) * sum(x * (y - y_current))\n",
        "        b_gradient = -(2/N) * sum(y - y_current)\n",
        "        m_current = m_current - (learning_rate * m_gradient)\n",
        "        b_current = b_current - (learning_rate * b_gradient)\n",
        "    return m_current, b_current, cost, cost_list \n",
        "\n",
        "m_current, b_current, cost, cost_list = linear_regression(X,y) \n"
      ],
      "metadata": {
        "id": "6zkX6yO4TEpd"
      },
      "execution_count": 266,
      "outputs": []
    },
    {
      "cell_type": "code",
      "source": [
        "repeat = 10000\n",
        "lrate = 0.01\n",
        "theta = np.zeros((10+1))"
      ],
      "metadata": {
        "id": "5Vk2nzkTUQNF"
      },
      "execution_count": 267,
      "outputs": []
    },
    {
      "cell_type": "code",
      "source": [
        "def computeCost(X, y, theta):\n",
        "  m = len(y) # number of training examples\n",
        "  diff = np.matmul(X, theta)-y\n",
        "  J = 1 / (2 * m) * np.matmul(diff, diff)\n",
        "  return J"
      ],
      "metadata": {
        "id": "AtkMD45tVyr4"
      },
      "execution_count": 268,
      "outputs": []
    },
    {
      "cell_type": "code",
      "source": [
        "def gradientDescent(X, y, theta, alpha, num_iters):\n",
        "  # Initialize some useful values\n",
        "  m = len(y) # number of training examples\n",
        "  J_history = []\n",
        "  # repeat until convergance\n",
        "  for i in range(num_iters):\n",
        "    hc = np.matmul(X, theta) - y\n",
        "    theta -= alpha / m . dot(np.matmul(X.transpose(), hc)) \n",
        "    # Save the cost J in every iteration\n",
        "    J_history.append(computeCost(X, y, theta))\n",
        "  return theta, J_history"
      ],
      "metadata": {
        "id": "TODwp4vkWnYV"
      },
      "execution_count": 269,
      "outputs": []
    },
    {
      "cell_type": "code",
      "source": [
        "costs=[]\n",
        "for cost in cost_list:\n",
        "  costs.append(cost.mean())\n",
        "plt.plot(np.arange(10000), costs, '-b', LineWidth=2)\n",
        "plt.xlabel('Number of iterations')\n",
        "plt.ylabel('Cost')\n",
        "plt.show()"
      ],
      "metadata": {
        "colab": {
          "base_uri": "https://localhost:8080/",
          "height": 279
        },
        "id": "sVyXVNEqshNL",
        "outputId": "18d4bf3b-ad9d-405b-8d77-a5ba3d2f7a87"
      },
      "execution_count": 272,
      "outputs": [
        {
          "output_type": "display_data",
          "data": {
            "text/plain": [
              "<Figure size 432x288 with 1 Axes>"
            ],
            "image/png": "[encoded data removed]"
          },
          "metadata": {
            "needs_background": "light"
          }
        }
      ]
    },
    {
      "cell_type": "markdown",
      "source": [
        "**Question 2**\n",
        "\n",
        "I am downloading sklearn.datasets.fetch_openml(name=\"house_prices\")\n",
        "dataset and Split it into training (80%) and testing (20%) parts.\n",
        "\n",
        "After that I used sklearn.linear_model module to get solution and plot the model prediction and actual values on test set and use sklearn.metrics.r2_score to calculate performance."
      ],
      "metadata": {
        "id": "CJyXXZX3pR_p"
      }
    },
    {
      "cell_type": "code",
      "source": [
        "from sklearn.datasets import fetch_openml\n",
        "housing = fetch_openml(name=\"house_prices\")\n",
        "# to do splitting\n",
        "from sklearn.model_selection import train_test_split\n",
        "X_train, X_test, y_train, y_test = train_test_split(X,y,test_size=0.2)\n"
      ],
      "metadata": {
        "id": "LOrN9u4RZpR6"
      },
      "execution_count": 273,
      "outputs": []
    },
    {
      "cell_type": "code",
      "source": [
        "from sklearn import linear_model\n",
        "from sklearn.metrics import mean_squared_error, r2_score\n",
        "\n",
        "lr_skmodel = linear_model.LinearRegression()\n",
        "\n",
        "lr_skmodel.fit(X_train,y_train)\n",
        "\n",
        "print('Coefficients:',lr_skmodel.coef_)\n",
        "\n",
        "y_pred = lr_skmodel.predict(X_test) # compare y_test\n",
        "\n",
        "print('MSE:',mean_squared_error(y_pred,y_test))\n",
        "# R2 score = 1 - (MSE / (variance of data))\n",
        "print('R2 score:',r2_score(y_pred,y_test))\n",
        "\n",
        "\n",
        "plt.scatter(y_test,y_pred)\n",
        "plt.xlabel('y_test')\n",
        "plt.ylabel('Predicted y')"
      ],
      "metadata": {
        "colab": {
          "base_uri": "https://localhost:8080/",
          "height": 367
        },
        "id": "ATdCM-maZq1P",
        "outputId": "827069d9-aee8-4c52-f142-ac357dd92412"
      },
      "execution_count": 275,
      "outputs": [
        {
          "output_type": "stream",
          "name": "stdout",
          "text": [
            "Coefficients: [[0.000000 48.677257 -241.924793 522.394429 316.228880 -724.119525\n",
            "  460.770283 7.366032 63.694368 737.943529 104.806340]]\n",
            "MSE: 2595.7884990183557\n",
            "R2 score: 0.027869589143429963\n"
          ]
        },
        {
          "output_type": "execute_result",
          "data": {
            "text/plain": [
              "Text(0, 0.5, 'Predicted y')"
            ]
          },
          "metadata": {},
          "execution_count": 275
        },
        {
          "output_type": "display_data",
          "data": {
            "text/plain": [
              "<Figure size 432x288 with 1 Axes>"
            ],
            "image/png": "[encoded data removed]"
          },
          "metadata": {
            "needs_background": "light"
          }
        }
      ]
    },
    {
      "cell_type": "code",
      "source": [
        "import sklearn\n",
        "sklearn.metrics.r2_score(y_test,y_pred)"
      ],
      "metadata": {
        "colab": {
          "base_uri": "https://localhost:8080/",
          "height": 0
        },
        "id": "v3dKQgkhbYDw",
        "outputId": "dd4ec09b-0803-4420-b3ce-f15336ec4c2d"
      },
      "execution_count": 276,
      "outputs": [
        {
          "output_type": "execute_result",
          "data": {
            "text/plain": [
              "0.38192037963462633"
            ]
          },
          "metadata": {},
          "execution_count": 276
        }
      ]
    },
    {
      "cell_type": "markdown",
      "source": [
        "\n",
        "\n",
        "---\n",
        "\n",
        "\n",
        "\n",
        "---\n",
        "\n",
        "\n",
        " **End of the Problem Set 1**\n",
        "\n",
        "\n",
        "\n",
        "\n",
        "**Hessam Kaveh**\n",
        "\n",
        "**22.10.2022**"
      ],
      "metadata": {
        "id": "TPRUGsXnweWr"
      }
    }
  ]
}